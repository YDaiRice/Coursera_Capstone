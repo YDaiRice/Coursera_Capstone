{
 "cells": [
  {
   "cell_type": "code",
   "execution_count": 29,
   "metadata": {},
   "outputs": [],
   "source": [
    "import pandas as pd\n",
    "import numpy as np"
   ]
  },
  {
   "cell_type": "markdown",
   "metadata": {},
   "source": [
    "# Super Category define"
   ]
  },
  {
   "cell_type": "code",
   "execution_count": 30,
   "metadata": {},
   "outputs": [],
   "source": [
    "H_CL = np.genfromtxt('Houston_Clist.txt',dtype=str,delimiter=\"\\n\") #houston category list"
   ]
  },
  {
   "cell_type": "code",
   "execution_count": 31,
   "metadata": {},
   "outputs": [
    {
     "data": {
      "text/plain": [
       "(241,)"
      ]
     },
     "execution_count": 31,
     "metadata": {},
     "output_type": "execute_result"
    }
   ],
   "source": [
    "H_CL.shape"
   ]
  },
  {
   "cell_type": "code",
   "execution_count": 32,
   "metadata": {},
   "outputs": [],
   "source": [
    "NY_CL = np.genfromtxt('NY_Clist.txt',dtype=str,delimiter=\"\\n\") #NY category list"
   ]
  },
  {
   "cell_type": "code",
   "execution_count": 33,
   "metadata": {},
   "outputs": [
    {
     "data": {
      "text/plain": [
       "(342,)"
      ]
     },
     "execution_count": 33,
     "metadata": {},
     "output_type": "execute_result"
    }
   ],
   "source": [
    "NY_CL.shape"
   ]
  },
  {
   "cell_type": "code",
   "execution_count": 34,
   "metadata": {},
   "outputs": [],
   "source": [
    "d = np.setdiff1d(NY_CL,H_CL)"
   ]
  },
  {
   "cell_type": "code",
   "execution_count": 35,
   "metadata": {},
   "outputs": [
    {
     "data": {
      "text/plain": [
       "(380,)"
      ]
     },
     "execution_count": 35,
     "metadata": {},
     "output_type": "execute_result"
    }
   ],
   "source": [
    "e = np.concatenate((NY_CL,H_CL))\n",
    "e = np.unique(e)\n",
    "e.shape"
   ]
  },
  {
   "cell_type": "code",
   "execution_count": 126,
   "metadata": {},
   "outputs": [],
   "source": [
    "np.savetxt('Category_H_NY.txt',e,fmt='%s')"
   ]
  },
  {
   "cell_type": "code",
   "execution_count": 127,
   "metadata": {},
   "outputs": [],
   "source": [
    "Foodlist = ['smoothie','kofte','churrascaria','snack','veterinarian','wine','poutine','creperie','distillery','brewery','taco','diner','wing','steak','tea','noodle','soup','fried','salad','hot dog','Food','Beer','Chip','Coffee','Café','Breakfast','Cheese','Chocolate','Restaurant','Pub','Ice Cream','Bagel','Bistro','Buffet','Bubble Tea','Cafeteria','Cafe','Candy','Bar','Cupcake','Deli','Dessert','Donut','Burger','Burrito','Sandwich','Pizza','BBQ','Bakery']"
   ]
  },
  {
   "cell_type": "code",
   "execution_count": 142,
   "metadata": {},
   "outputs": [],
   "source": [
    "Edu_list = ['elementary','school','college'] "
   ]
  },
  {
   "cell_type": "code",
   "execution_count": 143,
   "metadata": {},
   "outputs": [],
   "source": [
    "InCity_Transport_List = ['Bus','Station','Train','Trail','Metro','road','intersection','harbor','pier']"
   ]
  },
  {
   "cell_type": "code",
   "execution_count": 144,
   "metadata": {},
   "outputs": [],
   "source": [
    "ItCity_Transport_List = ['Airport']"
   ]
  },
  {
   "cell_type": "code",
   "execution_count": 145,
   "metadata": {},
   "outputs": [],
   "source": [
    "Entertainment_List = ['gun','castle','historic','planetarium','nightlife','Book','Arcade','Art','Museum','Aquarium','Auditorium','concert','club','movie','theater','opera','circus','laser tag','zoo','music','video','game']"
   ]
  },
  {
   "cell_type": "code",
   "execution_count": 146,
   "metadata": {},
   "outputs": [],
   "source": [
    "Fashion_List = ['Cloth','Boutique','Women','Men','Antique','design','massage','cosmetics','jewelry','beauty','tattoo','salon','spa','nail','thift','vintage']"
   ]
  },
  {
   "cell_type": "code",
   "execution_count": 147,
   "metadata": {},
   "outputs": [],
   "source": [
    "Indoor_recreation = ['Gym','Yoga','bowl','skating rink','rock','climing','recreation','dance','tennis','cycle','hockey','pilate','indoor','weight','sport','curling ice']"
   ]
  },
  {
   "cell_type": "code",
   "execution_count": 148,
   "metadata": {},
   "outputs": [],
   "source": [
    "Outdoor_related = ['island','farm','fountain','bridge','Park','Beach','Golf','Monument','Landmark','Garden','Bike','Boat','Ferry','river','ball','Camp','surf','plaza','field','pool','stadium','fishing','Outdoor','playground','racetrack','lake']"
   ]
  },
  {
   "cell_type": "code",
   "execution_count": 149,
   "metadata": {},
   "outputs": [],
   "source": [
    "Daily_Enssential = ['neighborhood','home','dog','cemetery','photo','pet','laundry','library','clean','waste','storage','repair','butcher','grocery','store','shop','drug','market','doctor','care','chiropractor','Supermarket','Mattress','Pharmacy','Hospital','Phone','Mobile','Motorcycle','Medical','Accessories','Animal','Shelter','Auto','Baby','Bank','Church','Child']"
   ]
  },
  {
   "cell_type": "code",
   "execution_count": 150,
   "metadata": {},
   "outputs": [],
   "source": [
    "fl = []\n",
    "de = []\n",
    "fs = []\n",
    "et = []\n",
    "ir = []\n",
    "ot = []\n",
    "itt =[]\n",
    "intt = []\n",
    "oth = []\n",
    "ed =[]\n",
    "sc = {}\n",
    "\n",
    "for c in e:\n",
    "    c = c.lower()\n",
    "    \n",
    "    if any(x.lower() in c for x in [x.lower() for x in Foodlist]):\n",
    "        fl.append(c)\n",
    "        sc[c] = 'Food Drink'\n",
    "    elif any(x.lower() in c for x in ItCity_Transport_List):\n",
    "        itt.append(c)\n",
    "        sc[c] = 'Inter City Transportation'\n",
    "    elif any(x.lower() in c for x in Outdoor_related):\n",
    "        ot.append(c)\n",
    "        sc[c] = 'Outdoor Workout'\n",
    "    elif any(x.lower() in c for x in Indoor_recreation):\n",
    "        ir.append(c)\n",
    "        sc[c] = 'Indoor Workout'\n",
    "    elif any(x.lower() in c for x in Fashion_List ):\n",
    "        fs.append(c)\n",
    "        sc[c] = 'Fashion'\n",
    "    elif any(x.lower() in c for x in Entertainment_List):\n",
    "        et.append(c)\n",
    "        sc[c] = 'Entertainment'\n",
    "    elif any(x.lower() in c for x in InCity_Transport_List):\n",
    "        intt.append(c)\n",
    "        sc[c] = 'Inner City Transportation'\n",
    "    elif any(x.lower() in c for x in Daily_Enssential):\n",
    "        de.append(c)\n",
    "        sc[c] = 'Daily Enssential'\n",
    "    elif any(x in c for x in [x.lower() for x in Edu_list]):\n",
    "        ed.append(c)\n",
    "        sc[c] = 'Education'\n",
    "    else:\n",
    "        oth.append(c)\n",
    "        sc[c] = 'Others'\n",
    "        e3.append(c)\n",
    "        "
   ]
  },
  {
   "cell_type": "code",
   "execution_count": 151,
   "metadata": {},
   "outputs": [],
   "source": [
    "np.savetxt('fl.txt',[fl],fmt = \"%s\",delimiter=',')\n"
   ]
  },
  {
   "cell_type": "code",
   "execution_count": 152,
   "metadata": {},
   "outputs": [],
   "source": [
    "np.savetxt('ed.txt',[ed],fmt = \"%s\",delimiter=',')\n",
    "np.savetxt('et.txt',[et],fmt = \"%s\",delimiter=',')\n",
    "np.savetxt('de.txt',[de],fmt = \"%s\",delimiter=',')\n",
    "np.savetxt('intt.txt',[intt],fmt = \"%s\",delimiter=',')\n",
    "np.savetxt('ir.txt',[ir],fmt = \"%s\",delimiter=',')\n",
    "np.savetxt('ot.txt',[ot],fmt = \"%s\",delimiter=',')\n",
    "np.savetxt('fs.txt',[fs],fmt = \"%s\",delimiter=',')\n",
    "np.savetxt('oth.txt',[oth],fmt = \"%s\",delimiter=',')\n",
    "np.savetxt('itt.txt',[itt],fmt = \"%s\",delimiter=',')"
   ]
  },
  {
   "cell_type": "code",
   "execution_count": 154,
   "metadata": {},
   "outputs": [
    {
     "name": "stdout",
     "output_type": "stream",
     "text": [
      "length of food,education,entertain,daily ensential,innner Tranport,indoor recreation,outdoor,fashion,others,inter Tranport 154 4 38 59 8 20 49 22 24 2\n"
     ]
    }
   ],
   "source": [
    "print ('length of food,education,entertain,daily ensential,innner Tranport,indoor recreation,outdoor,fashion,others,inter Tranport',len(fl),len(ed),len(et),len(de),len(intt),len(ir),len(ot),len(fs),len(oth),len(itt))"
   ]
  },
  {
   "cell_type": "code",
   "execution_count": 155,
   "metadata": {},
   "outputs": [],
   "source": [
    "import json\n",
    "\n",
    "with open('supercategory_dic.json', 'w') as fp:\n",
    "    json.dump(sc, fp)"
   ]
  },
  {
   "cell_type": "code",
   "execution_count": 156,
   "metadata": {},
   "outputs": [
    {
     "name": "stdout",
     "output_type": "stream",
     "text": [
      "{'accessories store': 'Daily Enssential',\n",
      " 'afghan restaurant': 'Food Drink',\n",
      " 'african restaurant': 'Food Drink',\n",
      " 'airport food court': 'Food Drink',\n",
      " 'airport lounge': 'Inter City Transportation',\n",
      " 'airport service': 'Inter City Transportation',\n",
      " 'american restaurant': 'Food Drink',\n",
      " 'animal shelter': 'Daily Enssential',\n",
      " 'antique shop': 'Fashion',\n",
      " 'aquarium': 'Entertainment',\n",
      " 'arcade': 'Entertainment',\n",
      " 'arepa restaurant': 'Food Drink',\n",
      " 'argentinian restaurant': 'Food Drink',\n",
      " 'art gallery': 'Entertainment',\n",
      " 'art museum': 'Entertainment',\n",
      " 'arts & crafts store': 'Entertainment',\n",
      " 'asian restaurant': 'Food Drink',\n",
      " 'athletics & sports': 'Indoor Workout',\n",
      " 'australian restaurant': 'Food Drink',\n",
      " 'austrian restaurant': 'Food Drink',\n",
      " 'automotive shop': 'Daily Enssential',\n",
      " 'bagel shop': 'Food Drink',\n",
      " 'bakery': 'Food Drink',\n",
      " 'bank': 'Daily Enssential',\n",
      " 'bar': 'Food Drink',\n",
      " 'baseball field': 'Outdoor Workout',\n",
      " 'baseball stadium': 'Outdoor Workout',\n",
      " 'basketball court': 'Outdoor Workout',\n",
      " 'basketball stadium': 'Outdoor Workout',\n",
      " 'bbq joint': 'Food Drink',\n",
      " 'beach': 'Outdoor Workout',\n",
      " 'beach bar': 'Food Drink',\n",
      " 'beer bar': 'Food Drink',\n",
      " 'beer garden': 'Food Drink',\n",
      " 'beer store': 'Food Drink',\n",
      " 'big box store': 'Daily Enssential',\n",
      " 'bike shop': 'Outdoor Workout',\n",
      " 'bistro': 'Food Drink',\n",
      " 'board shop': 'Daily Enssential',\n",
      " 'boat or ferry': 'Outdoor Workout',\n",
      " 'bookstore': 'Entertainment',\n",
      " 'botanical garden': 'Outdoor Workout',\n",
      " 'boutique': 'Fashion',\n",
      " 'bowling alley': 'Indoor Workout',\n",
      " 'boxing gym': 'Indoor Workout',\n",
      " 'brazilian restaurant': 'Food Drink',\n",
      " 'breakfast spot': 'Food Drink',\n",
      " 'brewery': 'Food Drink',\n",
      " 'bridge': 'Outdoor Workout',\n",
      " 'bubble tea shop': 'Food Drink',\n",
      " 'building': 'Others',\n",
      " 'burger joint': 'Food Drink',\n",
      " 'burmese restaurant': 'Food Drink',\n",
      " 'burrito place': 'Food Drink',\n",
      " 'bus station': 'Inner City Transportation',\n",
      " 'bus stop': 'Inner City Transportation',\n",
      " 'butcher': 'Daily Enssential',\n",
      " 'café': 'Food Drink',\n",
      " 'cajun / creole restaurant': 'Food Drink',\n",
      " 'campground': 'Outdoor Workout',\n",
      " 'candy store': 'Food Drink',\n",
      " 'cantonese restaurant': 'Food Drink',\n",
      " 'caribbean restaurant': 'Food Drink',\n",
      " 'castle': 'Entertainment',\n",
      " 'cemetery': 'Daily Enssential',\n",
      " 'cheese shop': 'Food Drink',\n",
      " 'chinese restaurant': 'Food Drink',\n",
      " 'chocolate shop': 'Food Drink',\n",
      " 'church': 'Daily Enssential',\n",
      " 'churrascaria': 'Food Drink',\n",
      " 'circus': 'Entertainment',\n",
      " 'climbing gym': 'Indoor Workout',\n",
      " 'clothing store': 'Fashion',\n",
      " 'cocktail bar': 'Food Drink',\n",
      " 'coffee shop': 'Food Drink',\n",
      " 'college academic building': 'Education',\n",
      " 'college baseball diamond': 'Outdoor Workout',\n",
      " 'college basketball court': 'Outdoor Workout',\n",
      " 'college rec center': 'Education',\n",
      " 'colombian restaurant': 'Food Drink',\n",
      " 'comedy club': 'Entertainment',\n",
      " 'comfort food restaurant': 'Food Drink',\n",
      " 'comic shop': 'Daily Enssential',\n",
      " 'community center': 'Others',\n",
      " 'concert hall': 'Entertainment',\n",
      " 'convenience store': 'Daily Enssential',\n",
      " 'convention center': 'Others',\n",
      " 'cosmetics shop': 'Fashion',\n",
      " 'creperie': 'Food Drink',\n",
      " 'cuban restaurant': 'Food Drink',\n",
      " 'cultural center': 'Others',\n",
      " 'cupcake shop': 'Food Drink',\n",
      " 'cycle studio': 'Indoor Workout',\n",
      " 'dance studio': 'Indoor Workout',\n",
      " 'deli / bodega': 'Food Drink',\n",
      " 'department store': 'Fashion',\n",
      " 'design studio': 'Fashion',\n",
      " 'dessert shop': 'Food Drink',\n",
      " 'dim sum restaurant': 'Food Drink',\n",
      " 'diner': 'Food Drink',\n",
      " 'discount store': 'Daily Enssential',\n",
      " 'distillery': 'Food Drink',\n",
      " 'dive bar': 'Food Drink',\n",
      " 'dog run': 'Daily Enssential',\n",
      " 'donut shop': 'Food Drink',\n",
      " 'dry cleaner': 'Daily Enssential',\n",
      " 'dumpling restaurant': 'Food Drink',\n",
      " 'duty-free shop': 'Daily Enssential',\n",
      " 'eastern european restaurant': 'Food Drink',\n",
      " 'electronics store': 'Daily Enssential',\n",
      " 'elementary school': 'Fashion',\n",
      " 'empanada restaurant': 'Food Drink',\n",
      " 'ethiopian restaurant': 'Food Drink',\n",
      " 'event service': 'Others',\n",
      " 'event space': 'Fashion',\n",
      " 'exhibit': 'Others',\n",
      " 'eye doctor': 'Daily Enssential',\n",
      " 'fabric shop': 'Daily Enssential',\n",
      " 'falafel restaurant': 'Food Drink',\n",
      " 'farm': 'Outdoor Workout',\n",
      " 'farmers market': 'Outdoor Workout',\n",
      " 'fast food restaurant': 'Food Drink',\n",
      " 'field': 'Outdoor Workout',\n",
      " 'filipino restaurant': 'Food Drink',\n",
      " 'fish & chips shop': 'Food Drink',\n",
      " 'fish market': 'Daily Enssential',\n",
      " 'flea market': 'Daily Enssential',\n",
      " 'flower shop': 'Daily Enssential',\n",
      " 'fondue restaurant': 'Food Drink',\n",
      " 'food': 'Food Drink',\n",
      " 'food & drink shop': 'Food Drink',\n",
      " 'food court': 'Food Drink',\n",
      " 'food truck': 'Food Drink',\n",
      " 'football stadium': 'Outdoor Workout',\n",
      " 'fountain': 'Outdoor Workout',\n",
      " 'french restaurant': 'Food Drink',\n",
      " 'fried chicken joint': 'Food Drink',\n",
      " 'frozen yogurt shop': 'Daily Enssential',\n",
      " 'fruit & vegetable store': 'Daily Enssential',\n",
      " 'furniture / home store': 'Daily Enssential',\n",
      " 'gaming cafe': 'Food Drink',\n",
      " 'garden': 'Outdoor Workout',\n",
      " 'garden center': 'Outdoor Workout',\n",
      " 'gas station': 'Inner City Transportation',\n",
      " 'gastropub': 'Food Drink',\n",
      " 'gay bar': 'Food Drink',\n",
      " 'general entertainment': 'Fashion',\n",
      " 'german restaurant': 'Food Drink',\n",
      " 'gift shop': 'Daily Enssential',\n",
      " 'gluten-free restaurant': 'Food Drink',\n",
      " 'golf course': 'Outdoor Workout',\n",
      " 'golf driving range': 'Outdoor Workout',\n",
      " 'gourmet shop': 'Daily Enssential',\n",
      " 'government building': 'Fashion',\n",
      " 'greek restaurant': 'Food Drink',\n",
      " 'grocery store': 'Daily Enssential',\n",
      " 'gun range': 'Entertainment',\n",
      " 'gun shop': 'Entertainment',\n",
      " 'gym': 'Indoor Workout',\n",
      " 'gym / fitness center': 'Indoor Workout',\n",
      " 'gymnastics gym': 'Indoor Workout',\n",
      " 'harbor / marina': 'Inner City Transportation',\n",
      " 'hardware store': 'Daily Enssential',\n",
      " 'hawaiian restaurant': 'Food Drink',\n",
      " 'health & beauty service': 'Fashion',\n",
      " 'health food store': 'Food Drink',\n",
      " 'herbs & spices store': 'Daily Enssential',\n",
      " 'high school': 'Education',\n",
      " 'himalayan restaurant': 'Food Drink',\n",
      " 'historic site': 'Entertainment',\n",
      " 'history museum': 'Entertainment',\n",
      " 'hobby shop': 'Daily Enssential',\n",
      " 'home service': 'Daily Enssential',\n",
      " 'hookah bar': 'Food Drink',\n",
      " 'hot dog joint': 'Food Drink',\n",
      " 'hotel': 'Others',\n",
      " 'hotel bar': 'Food Drink',\n",
      " 'hotpot restaurant': 'Food Drink',\n",
      " 'hunan restaurant': 'Food Drink',\n",
      " 'ice cream shop': 'Food Drink',\n",
      " 'indian chinese restaurant': 'Food Drink',\n",
      " 'indian restaurant': 'Food Drink',\n",
      " 'indie movie theater': 'Entertainment',\n",
      " 'indie theater': 'Entertainment',\n",
      " 'indonesian restaurant': 'Food Drink',\n",
      " 'indoor play area': 'Indoor Workout',\n",
      " 'irish pub': 'Food Drink',\n",
      " 'island': 'Outdoor Workout',\n",
      " 'israeli restaurant': 'Food Drink',\n",
      " 'italian restaurant': 'Food Drink',\n",
      " 'japanese restaurant': 'Food Drink',\n",
      " 'jazz club': 'Entertainment',\n",
      " 'jewelry store': 'Fashion',\n",
      " 'jewish restaurant': 'Food Drink',\n",
      " 'juice bar': 'Food Drink',\n",
      " 'karaoke bar': 'Food Drink',\n",
      " 'kids store': 'Daily Enssential',\n",
      " 'kitchen supply store': 'Daily Enssential',\n",
      " 'kofte place': 'Food Drink',\n",
      " 'korean restaurant': 'Food Drink',\n",
      " 'kosher restaurant': 'Food Drink',\n",
      " 'lake': 'Outdoor Workout',\n",
      " 'latin american restaurant': 'Food Drink',\n",
      " 'laundry service': 'Daily Enssential',\n",
      " 'lebanese restaurant': 'Food Drink',\n",
      " 'library': 'Daily Enssential',\n",
      " 'lighthouse': 'Others',\n",
      " 'lingerie store': 'Daily Enssential',\n",
      " 'liquor store': 'Daily Enssential',\n",
      " 'lounge': 'Others',\n",
      " 'mac & cheese joint': 'Food Drink',\n",
      " 'malay restaurant': 'Food Drink',\n",
      " 'market': 'Daily Enssential',\n",
      " 'martial arts dojo': 'Entertainment',\n",
      " 'massage studio': 'Fashion',\n",
      " 'mattress store': 'Daily Enssential',\n",
      " 'mediterranean restaurant': 'Food Drink',\n",
      " 'memorial site': 'Others',\n",
      " \"men's store\": 'Fashion',\n",
      " 'mexican restaurant': 'Food Drink',\n",
      " 'middle eastern restaurant': 'Food Drink',\n",
      " 'military base': 'Others',\n",
      " 'mini golf': 'Outdoor Workout',\n",
      " 'miscellaneous shop': 'Daily Enssential',\n",
      " 'mobile phone shop': 'Daily Enssential',\n",
      " 'modern european restaurant': 'Food Drink',\n",
      " 'modern greek restaurant': 'Food Drink',\n",
      " 'molecular gastronomy restaurant': 'Food Drink',\n",
      " 'mongolian restaurant': 'Food Drink',\n",
      " 'monument / landmark': 'Outdoor Workout',\n",
      " 'moroccan restaurant': 'Food Drink',\n",
      " 'motorcycle shop': 'Indoor Workout',\n",
      " 'movie theater': 'Entertainment',\n",
      " 'multiplex': 'Others',\n",
      " 'museum': 'Entertainment',\n",
      " 'music store': 'Entertainment',\n",
      " 'music venue': 'Entertainment',\n",
      " 'nail salon': 'Fashion',\n",
      " 'national park': 'Outdoor Workout',\n",
      " 'neighborhood': 'Daily Enssential',\n",
      " 'new american restaurant': 'Food Drink',\n",
      " 'nightclub': 'Entertainment',\n",
      " 'nightlife spot': 'Entertainment',\n",
      " 'non-profit': 'Others',\n",
      " 'noodle house': 'Food Drink',\n",
      " 'opera house': 'Entertainment',\n",
      " 'optical shop': 'Daily Enssential',\n",
      " 'other great outdoors': 'Outdoor Workout',\n",
      " 'other nightlife': 'Entertainment',\n",
      " 'other repair shop': 'Daily Enssential',\n",
      " 'outdoor sculpture': 'Outdoor Workout',\n",
      " 'outdoors & recreation': 'Outdoor Workout',\n",
      " 'paella restaurant': 'Food Drink',\n",
      " 'paintball field': 'Outdoor Workout',\n",
      " 'pakistani restaurant': 'Food Drink',\n",
      " 'paper / office supplies store': 'Daily Enssential',\n",
      " 'park': 'Outdoor Workout',\n",
      " 'performing arts venue': 'Entertainment',\n",
      " 'persian restaurant': 'Food Drink',\n",
      " 'peruvian restaurant': 'Food Drink',\n",
      " 'pet service': 'Daily Enssential',\n",
      " 'pet store': 'Daily Enssential',\n",
      " 'pharmacy': 'Daily Enssential',\n",
      " 'pie shop': 'Daily Enssential',\n",
      " 'pier': 'Inner City Transportation',\n",
      " 'pilates studio': 'Indoor Workout',\n",
      " 'pizza place': 'Food Drink',\n",
      " 'planetarium': 'Entertainment',\n",
      " 'playground': 'Outdoor Workout',\n",
      " 'plaza': 'Outdoor Workout',\n",
      " 'polish restaurant': 'Food Drink',\n",
      " 'pool': 'Outdoor Workout',\n",
      " 'pool hall': 'Outdoor Workout',\n",
      " 'portuguese restaurant': 'Food Drink',\n",
      " 'pub': 'Food Drink',\n",
      " 'public art': 'Food Drink',\n",
      " 'racetrack': 'Outdoor Workout',\n",
      " 'ramen restaurant': 'Food Drink',\n",
      " 'record shop': 'Daily Enssential',\n",
      " 'recreation center': 'Indoor Workout',\n",
      " 'rental car location': 'Others',\n",
      " 'rental service': 'Others',\n",
      " 'reservoir': 'Others',\n",
      " 'residential building (apartment / condo)': 'Fashion',\n",
      " 'resort': 'Others',\n",
      " 'restaurant': 'Food Drink',\n",
      " 'rock club': 'Indoor Workout',\n",
      " 'roof deck': 'Others',\n",
      " 'russian restaurant': 'Food Drink',\n",
      " 'sake bar': 'Food Drink',\n",
      " 'salad place': 'Food Drink',\n",
      " 'salon / barbershop': 'Food Drink',\n",
      " 'sandwich place': 'Food Drink',\n",
      " 'scenic lookout': 'Others',\n",
      " 'school': 'Education',\n",
      " 'science museum': 'Entertainment',\n",
      " 'sculpture garden': 'Outdoor Workout',\n",
      " 'seafood restaurant': 'Food Drink',\n",
      " 'shabu-shabu restaurant': 'Food Drink',\n",
      " 'shanghai restaurant': 'Food Drink',\n",
      " 'shipping store': 'Daily Enssential',\n",
      " 'shoe repair': 'Daily Enssential',\n",
      " 'shoe store': 'Daily Enssential',\n",
      " 'shop & service': 'Daily Enssential',\n",
      " 'shopping mall': 'Daily Enssential',\n",
      " 'shopping plaza': 'Outdoor Workout',\n",
      " 'skate park': 'Outdoor Workout',\n",
      " 'skating rink': 'Indoor Workout',\n",
      " 'smoke shop': 'Daily Enssential',\n",
      " 'smoothie shop': 'Food Drink',\n",
      " 'snack place': 'Food Drink',\n",
      " 'soba restaurant': 'Food Drink',\n",
      " 'soccer field': 'Outdoor Workout',\n",
      " 'soccer stadium': 'Outdoor Workout',\n",
      " 'social club': 'Entertainment',\n",
      " 'soup place': 'Food Drink',\n",
      " 'south american restaurant': 'Food Drink',\n",
      " 'southern / soul food restaurant': 'Food Drink',\n",
      " 'souvenir shop': 'Daily Enssential',\n",
      " 'spa': 'Fashion',\n",
      " 'spanish restaurant': 'Food Drink',\n",
      " 'speakeasy': 'Others',\n",
      " 'sporting goods shop': 'Indoor Workout',\n",
      " 'sports bar': 'Food Drink',\n",
      " 'sports club': 'Indoor Workout',\n",
      " 'sri lankan restaurant': 'Food Drink',\n",
      " 'stables': 'Others',\n",
      " 'state / provincial park': 'Outdoor Workout',\n",
      " 'stationery store': 'Inner City Transportation',\n",
      " 'steakhouse': 'Food Drink',\n",
      " 'street art': 'Entertainment',\n",
      " 'street food gathering': 'Food Drink',\n",
      " 'student center': 'Others',\n",
      " 'supermarket': 'Daily Enssential',\n",
      " 'supplement shop': 'Fashion',\n",
      " 'surf spot': 'Outdoor Workout',\n",
      " 'sushi restaurant': 'Food Drink',\n",
      " 'szechuan restaurant': 'Food Drink',\n",
      " 'taco place': 'Food Drink',\n",
      " 'taiwanese restaurant': 'Food Drink',\n",
      " 'tanning salon': 'Fashion',\n",
      " 'tapas restaurant': 'Food Drink',\n",
      " 'tattoo parlor': 'Fashion',\n",
      " 'tea room': 'Food Drink',\n",
      " 'tennis court': 'Indoor Workout',\n",
      " 'tennis stadium': 'Outdoor Workout',\n",
      " 'tex-mex restaurant': 'Food Drink',\n",
      " 'thai restaurant': 'Food Drink',\n",
      " 'theater': 'Entertainment',\n",
      " 'theme park': 'Outdoor Workout',\n",
      " 'theme park ride / attraction': 'Outdoor Workout',\n",
      " 'thrift / vintage store': 'Fashion',\n",
      " 'tibetan restaurant': 'Food Drink',\n",
      " 'tiki bar': 'Food Drink',\n",
      " 'toll plaza': 'Outdoor Workout',\n",
      " 'toy / game store': 'Entertainment',\n",
      " 'track': 'Others',\n",
      " 'track stadium': 'Outdoor Workout',\n",
      " 'trail': 'Inner City Transportation',\n",
      " 'train station': 'Inner City Transportation',\n",
      " 'turkish restaurant': 'Food Drink',\n",
      " 'used bookstore': 'Entertainment',\n",
      " 'vegetarian / vegan restaurant': 'Food Drink',\n",
      " 'venezuelan restaurant': 'Food Drink',\n",
      " 'veterinarian': 'Food Drink',\n",
      " 'video game store': 'Entertainment',\n",
      " 'video store': 'Entertainment',\n",
      " 'vietnamese restaurant': 'Food Drink',\n",
      " 'volleyball court': 'Outdoor Workout',\n",
      " 'warehouse store': 'Daily Enssential',\n",
      " 'waterfront': 'Others',\n",
      " 'weight loss center': 'Indoor Workout',\n",
      " 'whisky bar': 'Food Drink',\n",
      " 'wine bar': 'Food Drink',\n",
      " 'wine shop': 'Food Drink',\n",
      " 'wings joint': 'Food Drink',\n",
      " \"women's store\": 'Fashion',\n",
      " 'yoga studio': 'Indoor Workout',\n",
      " 'zoo': 'Entertainment',\n",
      " 'zoo exhibit': 'Entertainment'}\n"
     ]
    }
   ],
   "source": [
    "import pprint\n",
    "pprint.pprint(sc)"
   ]
  },
  {
   "cell_type": "code",
   "execution_count": null,
   "metadata": {},
   "outputs": [],
   "source": []
  }
 ],
 "metadata": {
  "kernelspec": {
   "display_name": "Python 3",
   "language": "python",
   "name": "python3"
  },
  "language_info": {
   "codemirror_mode": {
    "name": "ipython",
    "version": 3
   },
   "file_extension": ".py",
   "mimetype": "text/x-python",
   "name": "python",
   "nbconvert_exporter": "python",
   "pygments_lexer": "ipython3",
   "version": "3.7.1"
  }
 },
 "nbformat": 4,
 "nbformat_minor": 2
}
